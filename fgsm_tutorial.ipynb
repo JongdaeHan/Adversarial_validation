{
 "cells": [
  {
   "cell_type": "markdown",
   "metadata": {},
   "source": [
    "## FGSM tutorials\n",
    "\n",
    "* `Explaining and Harnessing Adversarial Examples` 논문 구현 튜토리얼\n",
    "\n",
    "* [reference](https://tutorials.pytorch.kr/beginner/fgsm_tutorial.html)"
   ]
  },
  {
   "cell_type": "code",
   "execution_count": 1,
   "metadata": {},
   "outputs": [],
   "source": [
    "from __future__ import print_function\n",
    "import torch\n",
    "import torch.nn as nn\n",
    "import torch.nn.functional as F\n",
    "import torch.optim as optim\n",
    "from torchvision import datasets, transforms\n",
    "import numpy as np\n",
    "import matplotlib.pyplot as plt\n",
    "\n",
    "from tqdm import tqdm\n",
    "\n",
    "from networks.LeNet import LeNet"
   ]
  },
  {
   "cell_type": "markdown",
   "metadata": {},
   "source": [
    "### Inputs\n",
    "\n",
    "* epsilons : adversarial examples를 위해 가해지는 변형의 정도, 클 수록 모델을 속일 수 있지만 사람이 인식할 수 있다. 0 ~ 1 사이의 값을 갖는다.\n",
    "* pretrained_model\n",
    "* use_cuda"
   ]
  },
  {
   "cell_type": "code",
   "execution_count": 2,
   "metadata": {},
   "outputs": [],
   "source": [
    "epsilons = [0, .05, .1]#, .15, .2, .25, .3]\n",
    "pretrained_model = './models/CIFAR10/10class_not_pretrained/LeNet/lenet_30_cifar_net.pth'\n",
    "use_cuda = True"
   ]
  },
  {
   "cell_type": "markdown",
   "metadata": {},
   "source": [
    "### 공격을 받는 모델"
   ]
  },
  {
   "cell_type": "code",
   "execution_count": 3,
   "metadata": {},
   "outputs": [
    {
     "name": "stdout",
     "output_type": "stream",
     "text": [
      "Files already downloaded and verified\n",
      "CUDA Available:  True\n"
     ]
    },
    {
     "data": {
      "text/plain": [
       "LeNet(\n",
       "  (conv1): Conv2d(3, 6, kernel_size=(3, 3), stride=(1, 1))\n",
       "  (conv2): Conv2d(6, 16, kernel_size=(3, 3), stride=(1, 1))\n",
       "  (fc1): Linear(in_features=576, out_features=120, bias=True)\n",
       "  (fc2): Linear(in_features=120, out_features=84, bias=True)\n",
       "  (fc3): Linear(in_features=84, out_features=10, bias=True)\n",
       ")"
      ]
     },
     "execution_count": 3,
     "metadata": {},
     "output_type": "execute_result"
    }
   ],
   "source": [
    "# MNIST 테스트 데이터셋과 데이터로더 선언\n",
    "test_dataset = datasets.CIFAR10(\n",
    "    root='./datasets/_cifar10/',\n",
    "    train=False,\n",
    "    download=True,\n",
    "    transform=transforms.Compose([\n",
    "        transforms.ToTensor(),\n",
    "        transforms.Normalize((.5, .5, .5), (.5, .5, .5))\n",
    "    ])\n",
    ")\n",
    "\n",
    "test_loader = torch.utils.data.DataLoader(\n",
    "    dataset=test_dataset, batch_size=1, shuffle=False, num_workers=2\n",
    ")\n",
    "\n",
    "# 어떤 디바이스를 사용할지 정의\n",
    "print(\"CUDA Available: \",torch.cuda.is_available())\n",
    "device = torch.device(\"cuda\" if (use_cuda and torch.cuda.is_available()) else \"cpu\")\n",
    "\n",
    "# 모델 초기화하기\n",
    "model = LeNet(num_classes=10).to(device)\n",
    "\n",
    "# 미리 학습된 모델 읽어오기\n",
    "model.load_state_dict(torch.load(pretrained_model, map_location='cpu'))\n",
    "\n",
    "# 모델을 평가 모드로 설정하기. 드롭아웃 레이어들을 위해 사용됨\n",
    "model.eval()"
   ]
  },
  {
   "cell_type": "markdown",
   "metadata": {},
   "source": [
    "### FGSM 공격"
   ]
  },
  {
   "cell_type": "code",
   "execution_count": 4,
   "metadata": {},
   "outputs": [],
   "source": [
    "# FGSM 공격 코드\n",
    "def fgsm_attack(image, epsilon, data_grad):\n",
    "    # data_grad 의 요소별 부호 값을 얻어옵니다\n",
    "    sign_data_grad = data_grad.sign()\n",
    "    # 입력 이미지의 각 픽셀에 sign_data_grad 를 적용해 작은 변화가 적용된 이미지를 생성합니다\n",
    "    perturbed_image = image + epsilon * sign_data_grad\n",
    "    # 값 범위를 [0,1]로 유지하기 위해 자르기(clipping)를 추가합니다\n",
    "#     perturbed_image = torch.clamp(perturbed_image, 0, 255)\n",
    "    perturbed_image = torch.clamp(perturbed_image, 0, 255)\n",
    "    # 작은 변화가 적용된 이미지를 리턴합니다\n",
    "    return perturbed_image"
   ]
  },
  {
   "cell_type": "markdown",
   "metadata": {},
   "source": [
    "### 테스트 함수"
   ]
  },
  {
   "cell_type": "code",
   "execution_count": 5,
   "metadata": {},
   "outputs": [],
   "source": [
    "def test( model, device, test_loader, epsilon ):\n",
    "\n",
    "    # 정확도 카운터\n",
    "    correct = 0\n",
    "    adv_examples = []\n",
    "#     a = []\n",
    "\n",
    "    # 테스트 셋의 모든 예제에 대해 루프를 돕니다\n",
    "    for data, target in tqdm(test_loader):\n",
    "\n",
    "        # 디바이스(CPU or GPU) 에 데이터와 라벨 값을 보냅니다\n",
    "        data, target = data.to(device), target.to(device)\n",
    "\n",
    "        # 텐서의 속성 중 requires_grad 를 설정합니다. 공격에서 중요한 부분입니다\n",
    "        data.requires_grad = True\n",
    "\n",
    "        # 데이터를 모델에 통과시킵니다\n",
    "        output = model(data)\n",
    "        init_pred = output.max(1, keepdim=True)[1] # 로그 확률의 최대값을 가지는 인덱스를 얻습니다\n",
    "\n",
    "        # 만약 초기 예측이 틀리면, 공격하지 않도록 하고 계속 진행합니다\n",
    "        if init_pred.item() != target.item():\n",
    "            continue\n",
    "\n",
    "        # 손실을 계산합니다\n",
    "        loss = F.nll_loss(output, target)\n",
    "\n",
    "        # 모델의 변화도들을 전부 0으로 설정합니다\n",
    "        model.zero_grad()\n",
    "\n",
    "        # 후방 전달을 통해 모델의 변화도를 계산합니다\n",
    "        loss.backward()\n",
    "\n",
    "        # 변화도 값을 모읍니다\n",
    "        data_grad = data.grad.data\n",
    "\n",
    "        # FGSM 공격을 호출합니다\n",
    "        perturbed_data = fgsm_attack(data, epsilon, data_grad)\n",
    "#         a.append(perturbed_data.cpu()) # a가 진짜\n",
    "        \n",
    "        # 작은 변화가 적용된 이미지에 대해 재분류합니다\n",
    "        output = model(perturbed_data)\n",
    "\n",
    "        # 올바른지 확인합니다\n",
    "        final_pred = output.max(1, keepdim=True)[1] # 로그 확률의 최대값을 가지는 인덱스를 얻습니다\n",
    "        if final_pred.item() == target.item():\n",
    "            correct += 1\n",
    "            if epsilon == 0:\n",
    "                adv_ex = perturbed_data.cpu()\n",
    "                adv_examples.append( (init_pred.item(), final_pred.item(), adv_ex) )\n",
    "                # 0 엡실론 예제에 대해서 저장합니다(원본))\n",
    "#             if (epsilon == 0) and (len(adv_examples) < 5):\n",
    "#                 adv_ex = perturbed_data.detach().cpu().numpy()#squeeze().detach().cpu().numpy()\n",
    "#                 adv_examples.append( (init_pred.item(), final_pred.item(), adv_ex) )\n",
    "        else:\n",
    "            # 추후 시각화를 위하 다른 예제들을 저장합니다\n",
    "#             if len(adv_examples) < 5:\n",
    "#                 adv_ex = perturbed_data.detach().cpu().numpy()#squeeze().detach().cpu().numpy()\n",
    "#                 adv_examples.append( (init_pred.item(), final_pred.item(), adv_ex) )\n",
    "            adv_ex = perturbed_data.cpu()\n",
    "            adv_examples.append( (init_pred.item(), final_pred.item(), adv_ex) )\n",
    "\n",
    "    # 해당 엡실론에서의 최종 정확도를 계산합니다\n",
    "    final_acc = correct/float(len(test_loader))\n",
    "    print(\"Epsilon: {}\\tTest Accuracy = {} / {} = {}\".format(epsilon, correct, len(test_loader), final_acc))\n",
    "\n",
    "    # 정확도와 적대적 예제를 리턴합니다\n",
    "    return final_acc, adv_examples#, a"
   ]
  },
  {
   "cell_type": "markdown",
   "metadata": {},
   "source": [
    "### 공격 코드"
   ]
  },
  {
   "cell_type": "code",
   "execution_count": 6,
   "metadata": {
    "tags": [
     "outputPrepend"
    ]
   },
   "outputs": [
    {
     "name": "stderr",
     "output_type": "stream",
     "text": [
      "\r",
      "  0%|          | 0/10000 [00:00<?, ?it/s]"
     ]
    },
    {
     "name": "stdout",
     "output_type": "stream",
     "text": [
      "0 started====================\n"
     ]
    },
    {
     "name": "stderr",
     "output_type": "stream",
     "text": [
      "100%|██████████| 10000/10000 [00:36<00:00, 277.63it/s]\n",
      "  0%|          | 0/10000 [00:00<?, ?it/s]"
     ]
    },
    {
     "name": "stdout",
     "output_type": "stream",
     "text": [
      "Epsilon: 0\tTest Accuracy = 2661 / 10000 = 0.2661\n",
      "0.05 started====================\n"
     ]
    },
    {
     "name": "stderr",
     "output_type": "stream",
     "text": [
      "100%|██████████| 10000/10000 [00:36<00:00, 276.77it/s]\n",
      "  0%|          | 0/10000 [00:00<?, ?it/s]"
     ]
    },
    {
     "name": "stdout",
     "output_type": "stream",
     "text": [
      "Epsilon: 0.05\tTest Accuracy = 1164 / 10000 = 0.1164\n",
      "0.1 started====================\n"
     ]
    },
    {
     "name": "stderr",
     "output_type": "stream",
     "text": [
      "100%|██████████| 10000/10000 [00:36<00:00, 275.28it/s]"
     ]
    },
    {
     "name": "stdout",
     "output_type": "stream",
     "text": [
      "Epsilon: 0.1\tTest Accuracy = 573 / 10000 = 0.0573\n"
     ]
    },
    {
     "name": "stderr",
     "output_type": "stream",
     "text": [
      "\n"
     ]
    }
   ],
   "source": [
    "accuracies = []\n",
    "examples = []\n",
    "# _ex = [] # _ex가 진짜\n",
    "\n",
    "# 각 엡실론에 대해 테스트 함수를 실행합니다\n",
    "for eps in epsilons:\n",
    "    print(str(eps) + ' started' + '=' * 20)\n",
    "    acc, ex = test(model, device, test_loader, eps)#, a = test(model, device, test_loader, eps)\n",
    "    accuracies.append(acc)\n",
    "    examples.append(ex)\n",
    "#     _ex.append(a)"
   ]
  },
  {
   "cell_type": "markdown",
   "metadata": {},
   "source": [
    "### 정확도와 엡실론 가시화"
   ]
  },
  {
   "cell_type": "code",
   "execution_count": 7,
   "metadata": {},
   "outputs": [
    {
     "data": {
      "image/png": "[encoded data removed]",
      "text/plain": [
       "<Figure size 360x360 with 1 Axes>"
      ]
     },
     "metadata": {
      "needs_background": "light"
     },
     "output_type": "display_data"
    }
   ],
   "source": [
    "plt.figure(figsize=(5,5))\n",
    "plt.plot(epsilons, accuracies, \"*-\")\n",
    "plt.yticks(np.arange(0, 1.1, step=0.1))\n",
    "plt.xticks(np.arange(0, .35, step=0.05))\n",
    "plt.title(\"Accuracy vs Epsilon\")\n",
    "plt.xlabel(\"Epsilon\")\n",
    "plt.ylabel(\"Accuracy\")\n",
    "plt.show()"
   ]
  },
  {
   "cell_type": "markdown",
   "metadata": {},
   "source": [
    "### 적대적 샘플 가시화"
   ]
  },
  {
   "cell_type": "code",
   "execution_count": null,
   "metadata": {
    "scrolled": true
   },
   "outputs": [],
   "source": [
    "from PIL import Image\n",
    "import cv2\n",
    "\n",
    "# 각 엡실론에서 적대적 샘플의 몇 가지 예를 도식화합니다\n",
    "cnt = 0\n",
    "plt.figure(figsize=(8,10))\n",
    "# 가시화\n",
    "tf = tf = transforms.ToPILImage()\n",
    "for i in range(len(epsilons)):\n",
    "    for j in range(len(examples[i])):\n",
    "        cnt += 1\n",
    "        plt.subplot(len(epsilons),len(examples[0]),cnt)\n",
    "        plt.xticks([], [])\n",
    "        plt.yticks([], [])\n",
    "        if j == 0:\n",
    "            plt.ylabel(\"Eps: {}\".format(epsilons[i]), fontsize=14)\n",
    "        orig,adv,ex = examples[i][j]\n",
    "#         _exex = examples[i][j]\n",
    "#         plt.title(\"{} -> {}\".format(orig, adv))\n",
    "        # 이미지 저장\n",
    "#         plt.imshow(tf(ex[0]))#, cmap='gray')\n",
    "        tf(ex[0]).save('./adversarial_examples/' + str(epsilons[i]) + '_' + str(cnt) + '_test.jpg')\n",
    "plt.tight_layout()\n",
    "plt.show()"
   ]
  },
  {
   "cell_type": "code",
   "execution_count": 16,
   "metadata": {},
   "outputs": [
    {
     "data": {
      "text/plain": [
       "True"
      ]
     },
     "execution_count": 16,
     "metadata": {},
     "output_type": "execute_result"
    }
   ],
   "source": [
    "img = cv2.imread('./test.png')\n",
    "\n",
    "# print(img.shape)\n",
    "color_image = cv2.cvtColor(img, cv2.COLOR_RGB2GRAY)\n",
    "cv2.imwrite('./_test.png', color_image)"
   ]
  },
  {
   "cell_type": "code",
   "execution_count": 8,
   "metadata": {},
   "outputs": [],
   "source": [
    "def imshow(img):\n",
    "    img = img / 2 + 0.5     # unnormalize\n",
    "    npimg = img.detach().numpy()\n",
    "    plt.imshow(np.transpose(npimg, (1, 2, 0)))\n",
    "    plt.show()\n",
    "    \n",
    "    return npimg"
   ]
  },
  {
   "cell_type": "code",
   "execution_count": 10,
   "metadata": {},
   "outputs": [
    {
     "data": {
      "image/png": "[encoded data removed]",
      "text/plain": [
       "<Figure size 432x288 with 1 Axes>"
      ]
     },
     "metadata": {
      "needs_background": "light"
     },
     "output_type": "display_data"
    },
    {
     "name": "stdout",
     "output_type": "stream",
     "text": [
      "tensor([[[[0.6196, 0.6235, 0.6471,  ..., 0.5373, 0.4941, 0.4549],\n",
      "          [0.5961, 0.5922, 0.6235,  ..., 0.5333, 0.4902, 0.4667],\n",
      "          [0.5922, 0.5922, 0.6196,  ..., 0.5451, 0.5098, 0.4706],\n",
      "          ...,\n",
      "          [0.2667, 0.1647, 0.1216,  ..., 0.1490, 0.0510, 0.1569],\n",
      "          [0.2392, 0.1922, 0.1373,  ..., 0.1020, 0.1137, 0.0784],\n",
      "          [0.2118, 0.2196, 0.1765,  ..., 0.0941, 0.1333, 0.0824]],\n",
      "\n",
      "         [[0.4392, 0.4353, 0.4549,  ..., 0.3725, 0.3569, 0.3333],\n",
      "          [0.4392, 0.4314, 0.4471,  ..., 0.3725, 0.3569, 0.3451],\n",
      "          [0.4314, 0.4275, 0.4353,  ..., 0.3843, 0.3725, 0.3490],\n",
      "          ...,\n",
      "          [0.4863, 0.3922, 0.3451,  ..., 0.3804, 0.2510, 0.3333],\n",
      "          [0.4549, 0.4000, 0.3333,  ..., 0.3216, 0.3216, 0.2510],\n",
      "          [0.4196, 0.4118, 0.3490,  ..., 0.3020, 0.3294, 0.2627]],\n",
      "\n",
      "         [[0.1922, 0.1843, 0.2000,  ..., 0.1412, 0.1412, 0.1294],\n",
      "          [0.2000, 0.1569, 0.1765,  ..., 0.1216, 0.1255, 0.1333],\n",
      "          [0.1843, 0.1294, 0.1412,  ..., 0.1333, 0.1333, 0.1294],\n",
      "          ...,\n",
      "          [0.6941, 0.5804, 0.5373,  ..., 0.5725, 0.4235, 0.4980],\n",
      "          [0.6588, 0.5804, 0.5176,  ..., 0.5098, 0.4941, 0.4196],\n",
      "          [0.6275, 0.5843, 0.5176,  ..., 0.4863, 0.5059, 0.4314]]]])\n",
      "[[0.61960787 0.62352943 0.64705884 ... 0.5372549  0.49411765 0.45490196]\n",
      " [0.59607846 0.5921569  0.62352943 ... 0.53333336 0.49019608 0.46666667]\n",
      " [0.5921569  0.5921569  0.61960787 ... 0.54509807 0.50980395 0.47058824]\n",
      " ...\n",
      " [0.26666668 0.16470589 0.12156863 ... 0.14901961 0.05098039 0.15686275]\n",
      " [0.23921569 0.19215687 0.13725491 ... 0.10196079 0.11372549 0.07843138]\n",
      " [0.21176471 0.21960784 0.1764706  ... 0.09411765 0.13333334 0.08235294]]\n"
     ]
    }
   ],
   "source": [
    "import torchvision\n",
    "from PIL import Image\n",
    "\n",
    "dataiter = iter(test_loader)\n",
    "images, labels = dataiter.next()\n",
    "\n",
    "imshow(torchvision.utils.make_grid(images))\n",
    "print(images)\n",
    "data = images.squeeze().detach().cpu().numpy()\n",
    "print(data[0])\n",
    "data = Image.fromarray(data[0])\n",
    "data.save('./_test.tiff')"
   ]
  },
  {
   "cell_type": "code",
   "execution_count": 14,
   "metadata": {},
   "outputs": [
    {
     "name": "stdout",
     "output_type": "stream",
     "text": [
      "<PIL.Image.Image image mode=RGB size=32x32 at 0x7FCD90A61B38>\n"
     ]
    }
   ],
   "source": [
    "p_data = _ex[0][0][0].cpu()\n",
    "\n",
    "tf = transforms.ToPILImage()\n",
    "img_tf = tf(p_data)\n",
    "\n",
    "print(img_tf)\n",
    "img_tf.save('./_ttest.jpg')"
   ]
  },
  {
   "cell_type": "code",
   "execution_count": null,
   "metadata": {},
   "outputs": [],
   "source": []
  }
 ],
 "metadata": {
  "kernelspec": {
   "display_name": "Python 3",
   "language": "python",
   "name": "python3"
  },
  "language_info": {
   "codemirror_mode": {
    "name": "ipython",
    "version": 3
   },
   "file_extension": ".py",
   "mimetype": "text/x-python",
   "name": "python",
   "nbconvert_exporter": "python",
   "pygments_lexer": "ipython3",
   "version": "3.6.5"
  }
 },
 "nbformat": 4,
 "nbformat_minor": 2
}
